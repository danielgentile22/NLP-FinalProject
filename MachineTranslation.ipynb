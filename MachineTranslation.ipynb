{
 "cells": [
  {
   "cell_type": "markdown",
   "metadata": {},
   "source": [
    "## Imports"
   ]
  },
  {
   "cell_type": "code",
   "execution_count": 7,
   "metadata": {},
   "outputs": [],
   "source": [
    "import re\n",
    "from transformers import MarianTokenizer\n",
    "from transformers import MarianMTModel, MarianTokenizer"
   ]
  },
  {
   "cell_type": "markdown",
   "metadata": {},
   "source": [
    "## Data loading"
   ]
  },
  {
   "cell_type": "code",
   "execution_count": 2,
   "metadata": {},
   "outputs": [
    {
     "name": "stdout",
     "output_type": "stream",
     "text": [
      "Total Italian sentences: 1909116\n",
      "Total English sentences: 1909116\n",
      "Italian sentence 1: Ripresa della sessione\n",
      "English sentence 1: Resumption of the session\n",
      "\n",
      "Italian sentence 2: Dichiaro ripresa la sessione del Parlamento europeo, interrotta venerdì 17 dicembre e rinnovo a tutti i miei migliori auguri nella speranza che abbiate trascorso delle buone vacanze.\n",
      "English sentence 2: I declare resumed the session of the European Parliament adjourned on Friday 17 December 1999, and I would like once again to wish you a happy new year in the hope that you enjoyed a pleasant festive period.\n",
      "\n",
      "Italian sentence 3: Come avrete avuto modo di constatare il grande \"baco del millennio\" non si è materializzato. Invece, i cittadini di alcuni nostri paesi sono stati colpiti da catastrofi naturali di proporzioni davvero terribili.\n",
      "English sentence 3: Although, as you will have seen, the dreaded 'millennium bug' failed to materialise, still the people in a number of countries suffered a series of natural disasters that truly were dreadful.\n",
      "\n",
      "Italian sentence 4: Avete chiesto che si tenesse una discussione su tale tema nei prossimi giorni, nel corso della presente tornata.\n",
      "English sentence 4: You have requested a debate on this subject in the course of the next few days, during this part-session.\n",
      "\n",
      "Italian sentence 5: Nel frattempo è mio desiderio, come del resto mi è stato chiesto da alcuni colleghi, osservare un minuto di silenzio in memoria di tutte le vittime delle tempeste che si sono abbattute sui diversi paesi dell' Unione europea.\n",
      "English sentence 5: In the meantime, I should like to observe a minute' s silence, as a number of Members have requested, on behalf of all the victims concerned, particularly those of the terrible storms, in the various countries of the European Union.\n",
      "\n"
     ]
    }
   ],
   "source": [
    "italian_file_path = 'europarl-v7.it-en.it'\n",
    "english_file_path = 'europarl-v7.it-en.en'\n",
    "\n",
    "def load_sentences(file_path):\n",
    "    with open(file_path, encoding='utf-8') as file:\n",
    "        sentences = file.read().split('\\n')\n",
    "    return sentences\n",
    "\n",
    "italian_sentences = load_sentences(italian_file_path)\n",
    "english_sentences = load_sentences(english_file_path)\n",
    "\n",
    "# Test data loading\n",
    "print(f\"Total Italian sentences: {len(italian_sentences)}\")\n",
    "print(f\"Total English sentences: {len(english_sentences)}\")\n",
    "\n",
    "# Print the first 5 sentences in both languages to check\n",
    "for i in range(5):\n",
    "    print(f\"Italian sentence {i+1}: {italian_sentences[i]}\")\n",
    "    print(f\"English sentence {i+1}: {english_sentences[i]}\\n\")"
   ]
  },
  {
   "cell_type": "markdown",
   "metadata": {},
   "source": [
    "## Data preprocessing"
   ]
  },
  {
   "cell_type": "code",
   "execution_count": 6,
   "metadata": {},
   "outputs": [],
   "source": [
    "def clean_text_for_translation(text):\n",
    "    # Simplified cleaning process, since Marian handles some normalization internally\n",
    "    text = re.sub(r\"<br\\s*/?>\", \" \", text)  # Remove HTML breaks\n",
    "    text = re.sub(r\"\\s+\", \" \", text)  # Normalize whitespace\n",
    "    return text.strip()\n",
    "\n",
    "# Clean the sentences\n",
    "italian_cleaned_for_translation = [clean_text_for_translation(text) for text in italian_sentences]\n",
    "english_cleaned_for_translation = [clean_text_for_translation(text) for text in english_sentences]\n",
    "\n",
    "# You don't typically need to manually add special tokens or handle padding for translation models,\n",
    "# as the Marian tokenizer and model handle these internally. The main task is to ensure the input text is clean.\n",
    "\n",
    "# Note: Depending on your use case, you may not need to clean the English sentences if you are only translating from Italian to English.\n"
   ]
  },
  {
   "cell_type": "markdown",
   "metadata": {},
   "source": [
    "## Marian Implementation"
   ]
  },
  {
   "cell_type": "code",
   "execution_count": 8,
   "metadata": {},
   "outputs": [
    {
     "name": "stdout",
     "output_type": "stream",
     "text": [
      "Original: Ripresa della sessione\n",
      "Translated: Resumption of the session\n",
      "\n",
      "Original: Dichiaro ripresa la sessione del Parlamento europeo, interrotta venerdì 17 dicembre e rinnovo a tutti i miei migliori auguri nella speranza che abbiate trascorso delle buone vacanze.\n",
      "Translated: I declare resumed the session of the European Parliament adjourned on Friday 17 December and I renew to all my best wishes in the hope that you have had a good holiday.\n",
      "\n",
      "Original: Come avrete avuto modo di constatare il grande \"baco del millennio\" non si è materializzato. Invece, i cittadini di alcuni nostri paesi sono stati colpiti da catastrofi naturali di proporzioni davvero terribili.\n",
      "Translated: As you will have seen, the great \"baco of the millennium\" has not materialized; instead, the citizens of some of our countries have been affected by natural disasters of truly terrible proportions.\n",
      "\n",
      "Original: Avete chiesto che si tenesse una discussione su tale tema nei prossimi giorni, nel corso della presente tornata.\n",
      "Translated: You asked for a debate on this issue in the next few days, during this part-session.\n",
      "\n",
      "Original: Nel frattempo è mio desiderio, come del resto mi è stato chiesto da alcuni colleghi, osservare un minuto di silenzio in memoria di tutte le vittime delle tempeste che si sono abbattute sui diversi paesi dell' Unione europea.\n",
      "Translated: In the meantime it is my wish, as I have been asked by some of my colleagues, to observe a minute of silence in memory of all the victims of the storms that have struck the different countries of the European Union.\n",
      "\n"
     ]
    }
   ],
   "source": [
    "# Assuming italian_cleaned_for_translation is your cleaned Italian sentences\n",
    "src_text = italian_cleaned_for_translation[:5]  # Example: Translate the first 5 cleaned sentences\n",
    "\n",
    "model_name = \"Helsinki-NLP/opus-mt-it-en\"\n",
    "\n",
    "# Initialize the tokenizer and model\n",
    "tokenizer = MarianTokenizer.from_pretrained(model_name)\n",
    "model = MarianMTModel.from_pretrained(model_name)\n",
    "\n",
    "# Tokenize the texts and prepare input tensors\n",
    "tokenized_text = tokenizer(src_text, return_tensors=\"pt\", padding=True, truncation=True)\n",
    "\n",
    "# Generate translation output tensors\n",
    "translated_tensors = model.generate(**tokenized_text)\n",
    "\n",
    "# Decode the tensors to get the translated texts\n",
    "translated_texts = [tokenizer.decode(t, skip_special_tokens=True) for t in translated_tensors]\n",
    "\n",
    "for original, translation in zip(src_text, translated_texts):\n",
    "    print(f\"Original: {original}\")\n",
    "    print(f\"Translated: {translation}\\n\")\n"
   ]
  }
 ],
 "metadata": {
  "kernelspec": {
   "display_name": "Python 3",
   "language": "python",
   "name": "python3"
  },
  "language_info": {
   "codemirror_mode": {
    "name": "ipython",
    "version": 3
   },
   "file_extension": ".py",
   "mimetype": "text/x-python",
   "name": "python",
   "nbconvert_exporter": "python",
   "pygments_lexer": "ipython3",
   "version": "3.11.3"
  }
 },
 "nbformat": 4,
 "nbformat_minor": 2
}
