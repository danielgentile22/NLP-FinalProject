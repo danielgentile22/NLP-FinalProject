{
 "cells": [
  {
   "cell_type": "markdown",
   "metadata": {},
   "source": [
    "## Imports"
   ]
  },
  {
   "cell_type": "code",
   "execution_count": 1,
   "metadata": {},
   "outputs": [
    {
     "name": "stderr",
     "output_type": "stream",
     "text": [
      "[nltk_data] Downloading package punkt to\n",
      "[nltk_data]     C:\\Users\\Daniel\\AppData\\Roaming\\nltk_data...\n",
      "[nltk_data]   Package punkt is already up-to-date!\n"
     ]
    },
    {
     "data": {
      "text/plain": [
       "True"
      ]
     },
     "execution_count": 1,
     "metadata": {},
     "output_type": "execute_result"
    }
   ],
   "source": [
    "import nltk\n",
    "import numpy as np\n",
    "from collections import defaultdict\n",
    "\n",
    "nltk.download('punkt')"
   ]
  },
  {
   "cell_type": "markdown",
   "metadata": {},
   "source": [
    "## Data loading"
   ]
  },
  {
   "cell_type": "code",
   "execution_count": 2,
   "metadata": {},
   "outputs": [
    {
     "name": "stdout",
     "output_type": "stream",
     "text": [
      "Total Italian sentences: 1909116\n",
      "Total English sentences: 1909116\n",
      "Italian sentence 1: Ripresa della sessione\n",
      "English sentence 1: Resumption of the session\n",
      "\n",
      "Italian sentence 2: Dichiaro ripresa la sessione del Parlamento europeo, interrotta venerdì 17 dicembre e rinnovo a tutti i miei migliori auguri nella speranza che abbiate trascorso delle buone vacanze.\n",
      "English sentence 2: I declare resumed the session of the European Parliament adjourned on Friday 17 December 1999, and I would like once again to wish you a happy new year in the hope that you enjoyed a pleasant festive period.\n",
      "\n",
      "Italian sentence 3: Come avrete avuto modo di constatare il grande \"baco del millennio\" non si è materializzato. Invece, i cittadini di alcuni nostri paesi sono stati colpiti da catastrofi naturali di proporzioni davvero terribili.\n",
      "English sentence 3: Although, as you will have seen, the dreaded 'millennium bug' failed to materialise, still the people in a number of countries suffered a series of natural disasters that truly were dreadful.\n",
      "\n",
      "Italian sentence 4: Avete chiesto che si tenesse una discussione su tale tema nei prossimi giorni, nel corso della presente tornata.\n",
      "English sentence 4: You have requested a debate on this subject in the course of the next few days, during this part-session.\n",
      "\n",
      "Italian sentence 5: Nel frattempo è mio desiderio, come del resto mi è stato chiesto da alcuni colleghi, osservare un minuto di silenzio in memoria di tutte le vittime delle tempeste che si sono abbattute sui diversi paesi dell' Unione europea.\n",
      "English sentence 5: In the meantime, I should like to observe a minute' s silence, as a number of Members have requested, on behalf of all the victims concerned, particularly those of the terrible storms, in the various countries of the European Union.\n",
      "\n"
     ]
    }
   ],
   "source": [
    "italian_file_path = 'europarl-v7.it-en.it'  # Adjust the path if your file is in a different directory\n",
    "english_file_path = 'europarl-v7.it-en.en'\n",
    "\n",
    "def load_sentences(file_path):\n",
    "    with open(file_path, encoding='utf-8') as file:\n",
    "        sentences = file.read().split('\\n')\n",
    "    return sentences\n",
    "\n",
    "italian_sentences = load_sentences(italian_file_path)\n",
    "english_sentences = load_sentences(english_file_path)\n",
    "\n",
    "# Test data loading\n",
    "print(f\"Total Italian sentences: {len(italian_sentences)}\")\n",
    "print(f\"Total English sentences: {len(english_sentences)}\")\n",
    "\n",
    "# Print the first 5 sentences in both languages to check\n",
    "for i in range(5):\n",
    "    print(f\"Italian sentence {i+1}: {italian_sentences[i]}\")\n",
    "    print(f\"English sentence {i+1}: {english_sentences[i]}\\n\")"
   ]
  },
  {
   "cell_type": "markdown",
   "metadata": {},
   "source": [
    "## Data preprocessing"
   ]
  },
  {
   "cell_type": "code",
   "execution_count": 3,
   "metadata": {},
   "outputs": [
    {
     "name": "stderr",
     "output_type": "stream",
     "text": [
      "[nltk_data] Downloading package punkt to\n",
      "[nltk_data]     C:\\Users\\Daniel\\AppData\\Roaming\\nltk_data...\n",
      "[nltk_data]   Package punkt is already up-to-date!\n"
     ]
    }
   ],
   "source": [
    "import nltk\n",
    "import numpy as np\n",
    "from collections import defaultdict, Counter\n",
    "import pickle\n",
    "\n",
    "nltk.download('punkt')  # Make sure NLTK datasets are downloaded\n",
    "\n",
    "def tokenize_sentences(sentences, max_sentence_length=50):\n",
    "    \"\"\"Tokenizes sentences up to a maximum length, discarding longer ones.\"\"\"\n",
    "    return [nltk.word_tokenize(sentence.lower()) for sentence in sentences if len(sentence.split()) <= max_sentence_length]\n",
    "\n",
    "def build_vocab(tokenized_sentences, min_frequency=1):\n",
    "    \"\"\"Builds a vocabulary with tokens appearing at least min_frequency times.\"\"\"\n",
    "    # Flatten the list of token lists and count token frequencies\n",
    "    token_freqs = Counter(token for sentence in tokenized_sentences for token in sentence)\n",
    "    # Include only tokens that appear at least min_frequency times\n",
    "    vocab = {token: index for index, (token, freq) in enumerate(token_freqs.items(), start=1) if freq >= min_frequency}\n",
    "    vocab[\"<pad>\"] = 0  # Padding token\n",
    "    return vocab\n",
    "\n",
    "def tokens_to_indices(tokenized_sentences, vocab):\n",
    "    \"\"\"Converts tokens to indices based on a vocabulary.\"\"\"\n",
    "    return [[vocab.get(token, vocab[\"<pad>\"]) for token in sentence] for sentence in tokenized_sentences]\n",
    "\n",
    "def pad_sequences(sequences, max_len=None, padding_value=0):\n",
    "    \"\"\"Pads sequences to a specified maximum length.\"\"\"\n",
    "    if not max_len:\n",
    "        max_len = max(len(seq) for seq in sequences)\n",
    "    # Truncate longer sequences and pad shorter ones\n",
    "    return np.array([seq[:max_len] + [padding_value] * max(0, max_len - len(seq)) for seq in sequences])\n",
    "\n",
    "def save_processed_data(filename, data):\n",
    "    \"\"\"Saves processed data to a file using pickle.\"\"\"\n",
    "    with open(filename, 'wb') as file:\n",
    "        pickle.dump(data, file)\n",
    "\n",
    "def load_processed_data(filename):\n",
    "    \"\"\"Loads processed data from a pickle file.\"\"\"\n",
    "    with open(filename, 'rb') as file:\n",
    "        return pickle.load(file)"
   ]
  },
  {
   "cell_type": "code",
   "execution_count": 6,
   "metadata": {},
   "outputs": [
    {
     "name": "stdout",
     "output_type": "stream",
     "text": [
      "Trying to load data...\n",
      "Succesfully loaded data!\n"
     ]
    }
   ],
   "source": [
    "try:\n",
    "    print(\"Trying to load data...\")\n",
    "\n",
    "    # Attempt to load pre-processed data if available\n",
    "    italian_tokenized = load_processed_data('italian_tokenized.pkl')\n",
    "    english_tokenized = load_processed_data('english_tokenized.pkl')\n",
    "    italian_vocab = load_processed_data('italian_vocab.pkl')\n",
    "    english_vocab = load_processed_data('english_vocab.pkl')\n",
    "    italian_padded = load_processed_data('italian_padded.pkl')\n",
    "    english_padded = load_processed_data('english_padded.pkl')\n",
    "\n",
    "    print(\"Succesfully loaded data!\")\n",
    "\n",
    "except (FileNotFoundError, IOError):\n",
    "\n",
    "    print(\"Failed to load data.\")\n",
    "\n",
    "    # Pre-process data\n",
    "    print(\"Tokenizing sentences...\")\n",
    "    italian_tokenized = tokenize_sentences(italian_sentences)\n",
    "    english_tokenized = tokenize_sentences(english_sentences)\n",
    "    print(\"Sentences tokenized.\")\n",
    "    \n",
    "    print(\"Building vocab...\")\n",
    "    italian_vocab = build_vocab(italian_tokenized)\n",
    "    english_vocab = build_vocab(english_tokenized)\n",
    "    print(\"Vocab built.\")\n",
    "    \n",
    "    print(\"Tokens to indices...\")\n",
    "    italian_indices = tokens_to_indices(italian_tokenized, italian_vocab)\n",
    "    english_indices = tokens_to_indices(english_tokenized, english_vocab)\n",
    "    print(\"Done.\")\n",
    "    \n",
    "    print(\"Padding sequences...\")\n",
    "    italian_padded = pad_sequences(italian_indices)\n",
    "    english_padded = pad_sequences(english_indices)\n",
    "    print(\"Sentences padded.\")\n",
    "    \n",
    "    # Save processed data for future use\n",
    "    save_processed_data('italian_tokenized.pkl', italian_tokenized)\n",
    "    save_processed_data('english_tokenized.pkl', english_tokenized)\n",
    "    save_processed_data('italian_vocab.pkl', italian_vocab)\n",
    "    save_processed_data('english_vocab.pkl', english_vocab)\n",
    "    save_processed_data('italian_padded.pkl', italian_padded)\n",
    "    save_processed_data('english_padded.pkl', english_padded)\n",
    "\n",
    "    print(\"Saved data for future use.\")\n"
   ]
  },
  {
   "cell_type": "markdown",
   "metadata": {},
   "source": [
    "## RNN Model Definition"
   ]
  },
  {
   "cell_type": "code",
   "execution_count": 8,
   "metadata": {},
   "outputs": [],
   "source": [
    "import torch\n",
    "import torch.nn as nn\n",
    "import torch.optim as optim"
   ]
  },
  {
   "cell_type": "markdown",
   "metadata": {},
   "source": [
    "#### Encoder"
   ]
  },
  {
   "cell_type": "code",
   "execution_count": 27,
   "metadata": {},
   "outputs": [],
   "source": [
    "class EncoderRNN(nn.Module):\n",
    "    def __init__(self, input_size, hidden_size):\n",
    "        super(EncoderRNN, self).__init__()\n",
    "        self.hidden_size = hidden_size\n",
    "        self.embedding = nn.Embedding(input_size, hidden_size)\n",
    "        self.rnn = nn.GRU(hidden_size, hidden_size)\n",
    "\n",
    "    def forward(self, input, hidden):\n",
    "        embedded = self.embedding(input)\n",
    "        output, hidden = self.rnn(embedded, hidden)\n",
    "        return output, hidden\n",
    "\n",
    "    def initHidden(self, batch_size=1):\n",
    "        return torch.zeros(1, batch_size, self.hidden_size)\n"
   ]
  },
  {
   "cell_type": "markdown",
   "metadata": {},
   "source": [
    "#### Decoder"
   ]
  },
  {
   "cell_type": "code",
   "execution_count": 10,
   "metadata": {},
   "outputs": [],
   "source": [
    "class DecoderRNN(nn.Module):\n",
    "    def __init__(self, hidden_size, output_size):\n",
    "        super(DecoderRNN, self).__init__()\n",
    "        self.hidden_size = hidden_size\n",
    "        self.embedding = nn.Embedding(output_size, hidden_size)\n",
    "        self.rnn = nn.GRU(hidden_size, hidden_size)\n",
    "        self.out = nn.Linear(hidden_size, output_size)\n",
    "        self.softmax = nn.LogSoftmax(dim=1)\n",
    "\n",
    "    def forward(self, input, hidden):\n",
    "        output = self.embedding(input).view(1, 1, -1)\n",
    "        output = torch.relu(output)\n",
    "        output, hidden = self.rnn(output, hidden)\n",
    "        output = self.softmax(self.out(output[0]))\n",
    "        return output, hidden"
   ]
  }
 ],
 "metadata": {
  "kernelspec": {
   "display_name": "Python 3",
   "language": "python",
   "name": "python3"
  },
  "language_info": {
   "codemirror_mode": {
    "name": "ipython",
    "version": 3
   },
   "file_extension": ".py",
   "mimetype": "text/x-python",
   "name": "python",
   "nbconvert_exporter": "python",
   "pygments_lexer": "ipython3",
   "version": "3.10.11"
  }
 },
 "nbformat": 4,
 "nbformat_minor": 2
}
