{
 "cells": [
  {
   "cell_type": "markdown",
   "metadata": {},
   "source": [
    "## Imports"
   ]
  },
  {
   "cell_type": "code",
   "execution_count": 34,
   "metadata": {},
   "outputs": [],
   "source": [
    "import math\n",
    "\n",
    "import torch\n",
    "import torch.nn as nn\n",
    "from torch.utils.data import DataLoader, Dataset\n",
    "from torch import optim\n",
    "from torchtext.data.utils import get_tokenizer\n",
    "from torchtext.vocab import build_vocab_from_iterator"
   ]
  },
  {
   "cell_type": "markdown",
   "metadata": {},
   "source": [
    "## Data loading"
   ]
  },
  {
   "cell_type": "code",
   "execution_count": 35,
   "metadata": {},
   "outputs": [
    {
     "name": "stdout",
     "output_type": "stream",
     "text": [
      "Total Italian sentences: 1909116\n",
      "Total English sentences: 1909116\n",
      "Italian sentence 1: Ripresa della sessione\n",
      "English sentence 1: Resumption of the session\n",
      "\n",
      "Italian sentence 2: Dichiaro ripresa la sessione del Parlamento europeo, interrotta venerdì 17 dicembre e rinnovo a tutti i miei migliori auguri nella speranza che abbiate trascorso delle buone vacanze.\n",
      "English sentence 2: I declare resumed the session of the European Parliament adjourned on Friday 17 December 1999, and I would like once again to wish you a happy new year in the hope that you enjoyed a pleasant festive period.\n",
      "\n",
      "Italian sentence 3: Come avrete avuto modo di constatare il grande \"baco del millennio\" non si è materializzato. Invece, i cittadini di alcuni nostri paesi sono stati colpiti da catastrofi naturali di proporzioni davvero terribili.\n",
      "English sentence 3: Although, as you will have seen, the dreaded 'millennium bug' failed to materialise, still the people in a number of countries suffered a series of natural disasters that truly were dreadful.\n",
      "\n",
      "Italian sentence 4: Avete chiesto che si tenesse una discussione su tale tema nei prossimi giorni, nel corso della presente tornata.\n",
      "English sentence 4: You have requested a debate on this subject in the course of the next few days, during this part-session.\n",
      "\n",
      "Italian sentence 5: Nel frattempo è mio desiderio, come del resto mi è stato chiesto da alcuni colleghi, osservare un minuto di silenzio in memoria di tutte le vittime delle tempeste che si sono abbattute sui diversi paesi dell' Unione europea.\n",
      "English sentence 5: In the meantime, I should like to observe a minute' s silence, as a number of Members have requested, on behalf of all the victims concerned, particularly those of the terrible storms, in the various countries of the European Union.\n",
      "\n"
     ]
    }
   ],
   "source": [
    "italian_file_path = 'europarl-v7.it-en.it'  # Adjust the path if your file is in a different directory\n",
    "english_file_path = 'europarl-v7.it-en.en'\n",
    "\n",
    "def load_sentences(file_path):\n",
    "    with open(file_path, encoding='utf-8') as file:\n",
    "        sentences = file.read().split('\\n')\n",
    "    return sentences\n",
    "\n",
    "italian_sentences = load_sentences(italian_file_path)\n",
    "english_sentences = load_sentences(english_file_path)\n",
    "\n",
    "# Test data loading\n",
    "print(f\"Total Italian sentences: {len(italian_sentences)}\")\n",
    "print(f\"Total English sentences: {len(english_sentences)}\")\n",
    "\n",
    "# Print the first 5 sentences in both languages to check\n",
    "for i in range(5):\n",
    "    print(f\"Italian sentence {i+1}: {italian_sentences[i]}\")\n",
    "    print(f\"English sentence {i+1}: {english_sentences[i]}\\n\")\n"
   ]
  }
 ],
 "metadata": {
  "kernelspec": {
   "display_name": "Python 3",
   "language": "python",
   "name": "python3"
  },
  "language_info": {
   "codemirror_mode": {
    "name": "ipython",
    "version": 3
   },
   "file_extension": ".py",
   "mimetype": "text/x-python",
   "name": "python",
   "nbconvert_exporter": "python",
   "pygments_lexer": "ipython3",
   "version": "3.11.3"
  }
 },
 "nbformat": 4,
 "nbformat_minor": 2
}
