{
 "cells": [
  {
   "cell_type": "markdown",
   "metadata": {},
   "source": [
    "## Imports"
   ]
  },
  {
   "cell_type": "code",
   "execution_count": 1,
   "metadata": {},
   "outputs": [],
   "source": [
    "from datasets import Dataset, DatasetDict, load_metric\n",
    "import numpy as np\n",
    "import matplotlib.pyplot as plt\n",
    "from transformers import MarianMTModel, MarianTokenizer\n",
    "import torch\n",
    "from transformers import Seq2SeqTrainer, Seq2SeqTrainingArguments, DataCollatorForSeq2Seq\n",
    "import nltk\n",
    "from nltk.translate.bleu_score import corpus_bleu"
   ]
  },
  {
   "cell_type": "markdown",
   "metadata": {},
   "source": [
    "## Load raw dataset"
   ]
  },
  {
   "cell_type": "code",
   "execution_count": 2,
   "metadata": {},
   "outputs": [
    {
     "name": "stdout",
     "output_type": "stream",
     "text": [
      "Total Italian sentences: 1909116\n",
      "Total English sentences: 1909116\n",
      "Italian sentence 1: Ripresa della sessione\n",
      "English sentence 1: Resumption of the session\n",
      "\n",
      "Italian sentence 2: Dichiaro ripresa la sessione del Parlamento europeo, interrotta venerdì 17 dicembre e rinnovo a tutti i miei migliori auguri nella speranza che abbiate trascorso delle buone vacanze.\n",
      "English sentence 2: I declare resumed the session of the European Parliament adjourned on Friday 17 December 1999, and I would like once again to wish you a happy new year in the hope that you enjoyed a pleasant festive period.\n",
      "\n",
      "Italian sentence 3: Come avrete avuto modo di constatare il grande \"baco del millennio\" non si è materializzato. Invece, i cittadini di alcuni nostri paesi sono stati colpiti da catastrofi naturali di proporzioni davvero terribili.\n",
      "English sentence 3: Although, as you will have seen, the dreaded 'millennium bug' failed to materialise, still the people in a number of countries suffered a series of natural disasters that truly were dreadful.\n",
      "\n",
      "Italian sentence 4: Avete chiesto che si tenesse una discussione su tale tema nei prossimi giorni, nel corso della presente tornata.\n",
      "English sentence 4: You have requested a debate on this subject in the course of the next few days, during this part-session.\n",
      "\n",
      "Italian sentence 5: Nel frattempo è mio desiderio, come del resto mi è stato chiesto da alcuni colleghi, osservare un minuto di silenzio in memoria di tutte le vittime delle tempeste che si sono abbattute sui diversi paesi dell' Unione europea.\n",
      "English sentence 5: In the meantime, I should like to observe a minute' s silence, as a number of Members have requested, on behalf of all the victims concerned, particularly those of the terrible storms, in the various countries of the European Union.\n",
      "\n"
     ]
    }
   ],
   "source": [
    "# These two files need to be downloaded\n",
    "italian_file_path = 'europarl-v7.it-en.it'\n",
    "english_file_path = 'europarl-v7.it-en.en'\n",
    "\n",
    "def load_sentences(file_path):\n",
    "    with open(file_path, encoding='utf-8') as file:\n",
    "        sentences = file.read().split('\\n')\n",
    "    return sentences\n",
    "\n",
    "italian_sentences = load_sentences(italian_file_path)\n",
    "english_sentences = load_sentences(english_file_path)\n",
    "\n",
    "# Test if data is laoded properly\n",
    "print(f\"Total Italian sentences: {len(italian_sentences)}\")\n",
    "print(f\"Total English sentences: {len(english_sentences)}\")\n",
    "\n",
    "for i in range(5):\n",
    "    print(f\"Italian sentence {i+1}: {italian_sentences[i]}\")\n",
    "    print(f\"English sentence {i+1}: {english_sentences[i]}\\n\")"
   ]
  },
  {
   "cell_type": "markdown",
   "metadata": {},
   "source": [
    "## Create DatasetDict object from the raw data"
   ]
  },
  {
   "cell_type": "code",
   "execution_count": 3,
   "metadata": {},
   "outputs": [
    {
     "name": "stdout",
     "output_type": "stream",
     "text": [
      "DatasetDict({\n",
      "    train: Dataset({\n",
      "        features: ['translation'],\n",
      "        num_rows: 1527292\n",
      "    })\n",
      "    validation: Dataset({\n",
      "        features: ['translation'],\n",
      "        num_rows: 190911\n",
      "    })\n",
      "    test: Dataset({\n",
      "        features: ['translation'],\n",
      "        num_rows: 190913\n",
      "    })\n",
      "})\n"
     ]
    }
   ],
   "source": [
    "dataset_dict = DatasetDict()\n",
    "\n",
    "# Use 80% for training, and 10-10% for validation and testing\n",
    "total_sentences = len(italian_sentences)\n",
    "train_size = int(0.8 * total_sentences)\n",
    "validation_size = test_size = int(0.1 * total_sentences)\n",
    "\n",
    "train_data = {\"translation\": [{\"it\": it, \"en\": en} for it, en in zip(italian_sentences[:train_size], english_sentences[:train_size])]}\n",
    "validation_data = {\"translation\": [{\"it\": it, \"en\": en} for it, en in zip(italian_sentences[train_size:train_size+validation_size], english_sentences[train_size:train_size+validation_size])]}\n",
    "test_data = {\"translation\": [{\"it\": it, \"en\": en} for it, en in zip(italian_sentences[train_size+validation_size:], english_sentences[train_size+validation_size:])]}\n",
    "\n",
    "dataset_dict[\"train\"] = Dataset.from_dict(train_data)\n",
    "dataset_dict[\"validation\"] = Dataset.from_dict(validation_data)\n",
    "dataset_dict[\"test\"] = Dataset.from_dict(test_data)\n",
    "\n",
    "print(dataset_dict)"
   ]
  },
  {
   "cell_type": "code",
   "execution_count": 4,
   "metadata": {},
   "outputs": [
    {
     "data": {
      "text/plain": [
       "{'en': 'There is no room for amendments.', 'it': 'Non sono ammesse modifiche.'}"
      ]
     },
     "execution_count": 4,
     "metadata": {},
     "output_type": "execute_result"
    }
   ],
   "source": [
    "# Test if data is created properly\n",
    "dataset_dict['train']['translation'][125]"
   ]
  },
  {
   "cell_type": "markdown",
   "metadata": {},
   "source": [
    "## Inspect sequence lengths in the data "
   ]
  },
  {
   "cell_type": "code",
   "execution_count": 5,
   "metadata": {},
   "outputs": [
    {
     "data": {
      "image/png": "[encoded data removed]",
      "text/plain": [
       "<Figure size 720x360 with 2 Axes>"
      ]
     },
     "metadata": {
      "needs_background": "light"
     },
     "output_type": "display_data"
    }
   ],
   "source": [
    "italian_lengths = [len(sentence.split()) for sentence in italian_sentences]\n",
    "english_lengths = [len(sentence.split()) for sentence in english_sentences]\n",
    "\n",
    "# Bins\n",
    "italian_bins = np.arange(0, max(italian_lengths) + 50, 50)\n",
    "english_bins = np.arange(0, max(english_lengths) + 50, 50)\n",
    "\n",
    "plt.figure(figsize=(10, 5))\n",
    "\n",
    "plt.subplot(1, 2, 1)\n",
    "plt.hist(italian_lengths, bins=italian_bins, color='blue', alpha=0.7)\n",
    "plt.title('Italian Sentence Length')\n",
    "plt.xlabel('Length')\n",
    "plt.ylabel('Frequency')\n",
    "plt.xticks(italian_bins)\n",
    "\n",
    "# Display frequency values\n",
    "for i, freq in enumerate(np.histogram(italian_lengths, bins=italian_bins)[0]):\n",
    "    if freq > 0:\n",
    "        plt.text(italian_bins[i] + (italian_bins[i+1] - italian_bins[i]) / 2, \n",
    "                 freq, \n",
    "                 str(freq), \n",
    "                 ha='center', \n",
    "                 va='bottom')\n",
    "\n",
    "plt.subplot(1, 2, 2)\n",
    "plt.hist(english_lengths, bins=english_bins, color='green', alpha=0.7)\n",
    "plt.title('English Sentence Length')\n",
    "plt.xlabel('Length')\n",
    "plt.ylabel('Frequency')\n",
    "plt.xticks(english_bins)\n",
    "\n",
    "for i, freq in enumerate(np.histogram(english_lengths, bins=english_bins)[0]):\n",
    "    if freq > 0:\n",
    "        plt.text(english_bins[i] + (english_bins[i+1] - english_bins[i]) / 2, \n",
    "                 freq, \n",
    "                 str(freq), \n",
    "                 ha='center', \n",
    "                 va='bottom')\n",
    "\n",
    "plt.tight_layout()\n",
    "plt.show()"
   ]
  },
  {
   "cell_type": "markdown",
   "metadata": {},
   "source": [
    "It looks like that almost all data is shorter than 100 so it will be a good max_len size "
   ]
  },
  {
   "cell_type": "markdown",
   "metadata": {},
   "source": [
    "## Tokenize data in the DatasetDict object"
   ]
  },
  {
   "cell_type": "code",
   "execution_count": 6,
   "metadata": {},
   "outputs": [
    {
     "name": "stderr",
     "output_type": "stream",
     "text": [
      "/home1/s4745000/.local/lib/python3.10/site-packages/transformers/models/marian/tokenization_marian.py:197: UserWarning: Recommended: pip install sacremoses.\n",
      "  warnings.warn(\"Recommended: pip install sacremoses.\")\n"
     ]
    },
    {
     "data": {
      "application/vnd.jupyter.widget-view+json": {
       "model_id": "e6e09ea560524cf78b1bafb6b37cde7e",
       "version_major": 2,
       "version_minor": 0
      },
      "text/plain": [
       "Map:   0%|          | 0/1527292 [00:00<?, ? examples/s]"
      ]
     },
     "metadata": {},
     "output_type": "display_data"
    },
    {
     "name": "stderr",
     "output_type": "stream",
     "text": [
      "/home1/s4745000/.local/lib/python3.10/site-packages/transformers/tokenization_utils_base.py:3935: UserWarning: `as_target_tokenizer` is deprecated and will be removed in v5 of Transformers. You can tokenize your labels by using the argument `text_target` of the regular `__call__` method (either in the same call as your input texts if you use the same keyword arguments, or in a separate call.\n",
      "  warnings.warn(\n"
     ]
    },
    {
     "data": {
      "application/vnd.jupyter.widget-view+json": {
       "model_id": "a03907ccf4c648dc98840f4689f29da1",
       "version_major": 2,
       "version_minor": 0
      },
      "text/plain": [
       "Map:   0%|          | 0/190911 [00:00<?, ? examples/s]"
      ]
     },
     "metadata": {},
     "output_type": "display_data"
    },
    {
     "data": {
      "application/vnd.jupyter.widget-view+json": {
       "model_id": "7af0621ee036473cbde4ef007b1779ca",
       "version_major": 2,
       "version_minor": 0
      },
      "text/plain": [
       "Map:   0%|          | 0/190913 [00:00<?, ? examples/s]"
      ]
     },
     "metadata": {},
     "output_type": "display_data"
    }
   ],
   "source": [
    "# Use pretrained model and tokenizer\n",
    "model_name = \"Helsinki-NLP/opus-mt-it-en\"\n",
    "\n",
    "tokenizer = MarianTokenizer.from_pretrained(model_name)\n",
    "model = MarianMTModel.from_pretrained(model_name)\n",
    "\n",
    "device = torch.device(\"cuda\" if torch.cuda.is_available() else \"cpu\")\n",
    "model.to(device)\n",
    "\n",
    "max_len = 100 # from histogram\n",
    "\n",
    "# adapted from: https://medium.com/@tskumar1320/how-to-fine-tune-pre-trained-language-translation-model-3e8a6aace9f\n",
    "def preprocess(data):\n",
    "    it_sentences = [sentence_pair['it'] for sentence_pair in data['translation']]\n",
    "    en_sentences = [sentence_pair['en'] for sentence_pair in data['translation']]\n",
    "    it_toks = tokenizer(it_sentences, padding=\"max_length\", max_length=max_len, truncation=True)\n",
    "    with tokenizer.as_target_tokenizer():\n",
    "        en_toks = tokenizer(en_sentences, padding=\"max_length\", max_length=max_len, truncation=True)\n",
    "    \n",
    "    it_toks[\"labels\"] = en_toks[\"input_ids\"]\n",
    "    return it_toks\n",
    "\n",
    "# Apply the function to all data in the dataset   \n",
    "dataset_dict_tokenized = dataset_dict.map(preprocess, batched=True)"
   ]
  },
  {
   "cell_type": "markdown",
   "metadata": {},
   "source": [
    "<h3>The processes below were very time consuming and were run on multiple separate occasions on Hábrók servers so here only the code is provided and the results are in the report</h3>"
   ]
  },
  {
   "cell_type": "markdown",
   "metadata": {
    "tags": []
   },
   "source": [
    "## Hyperparam Tuning"
   ]
  },
  {
   "cell_type": "code",
   "execution_count": 7,
   "metadata": {},
   "outputs": [],
   "source": [
    "def compute_metrics(pred):\n",
    "    references = pred.label_ids\n",
    "    predictions = pred.predictions\n",
    "\n",
    "    # Convert token ids to text\n",
    "    references = tokenizer.batch_decode(references, skip_special_tokens=True)\n",
    "    predictions = tokenizer.batch_decode(predictions, skip_special_tokens=True)\n",
    "    \n",
    "    references = [[ref] for ref in references]\n",
    "    predictions = [pred for pred in predictions]\n",
    "    \n",
    "    # Compute corpus BLEU score\n",
    "    bleu_score = corpus_bleu(references, predictions)\n",
    "\n",
    "    return {\n",
    "        'bleu_score': bleu_score,\n",
    "    }"
   ]
  },
  {
   "cell_type": "code",
   "execution_count": 8,
   "metadata": {},
   "outputs": [],
   "source": [
    "BATCH_SIZE = 64\n",
    "NUM_EPOCHS = 1\n",
    "def hyperparam_tuning():\n",
    "    lr_list = [1e-5]\n",
    "    weight_decay_list = [0.1, 0.01]\n",
    "    \n",
    "    i = 0\n",
    "    for lr in lr_list:\n",
    "        for wd in weight_decay_list:\n",
    "            i += 1\n",
    "            print(f\"{i}: lr={lr}, wd={wd}\")\n",
    "\n",
    "            args = Seq2SeqTrainingArguments(\n",
    "                output_dir=\"results\",\n",
    "                evaluation_strategy = \"epoch\",\n",
    "                learning_rate=lr,\n",
    "                per_device_train_batch_size=BATCH_SIZE,\n",
    "                per_device_eval_batch_size=BATCH_SIZE,\n",
    "                weight_decay=wd,\n",
    "                num_train_epochs=NUM_EPOCHS,\n",
    "                save_strategy = \"no\",\n",
    "                predict_with_generate=True,\n",
    "                logging_dir=\"results\"\n",
    "            )\n",
    "\n",
    "            data_collator = DataCollatorForSeq2Seq(tokenizer, model=model)\n",
    "\n",
    "            trainer = Seq2SeqTrainer(\n",
    "                model=model,\n",
    "                args=args,\n",
    "                train_dataset=dataset_dict_tokenized[\"train\"],\n",
    "                eval_dataset=dataset_dict_tokenized[\"validation\"],\n",
    "                tokenizer=tokenizer,\n",
    "                data_collator=data_collator,\n",
    "                compute_metrics=compute_metrics,\n",
    "            )\n",
    "\n",
    "            trainer.train()"
   ]
  },
  {
   "cell_type": "code",
   "execution_count": 11,
   "metadata": {},
   "outputs": [],
   "source": [
    "# To run the tuning, simply uncomment the line below\n",
    "# hyperparam_tuning()"
   ]
  },
  {
   "cell_type": "markdown",
   "metadata": {},
   "source": [
    "We found the best hyperparameters to be learning rate: 0.00001, weight decay: 0.01"
   ]
  },
  {
   "cell_type": "markdown",
   "metadata": {
    "tags": []
   },
   "source": [
    "## Evaluate the baseline"
   ]
  },
  {
   "cell_type": "code",
   "execution_count": null,
   "metadata": {},
   "outputs": [],
   "source": [
    "args = Seq2SeqTrainingArguments(\n",
    "                output_dir=\"results\",\n",
    "                evaluation_strategy = \"epoch\",\n",
    "                learning_rate=0.00001,\n",
    "                per_device_train_batch_size=BATCH_SIZE,\n",
    "                per_device_eval_batch_size=BATCH_SIZE,\n",
    "                weight_decay=0.1,\n",
    "                num_train_epochs=5,\n",
    "                save_strategy = \"no\", # we dont want saving\n",
    "                predict_with_generate=True,\n",
    "                logging_dir=\"results\"\n",
    "            )\n",
    "\n",
    "data_collator = DataCollatorForSeq2Seq(tokenizer, model=model)\n",
    "\n",
    "trainer = Seq2SeqTrainer(\n",
    "                model=model,\n",
    "                args=args,\n",
    "                train_dataset=dataset_dict_tokenized[\"train\"],\n",
    "                eval_dataset=dataset_dict_tokenized[\"validation\"],\n",
    "                tokenizer=tokenizer,\n",
    "                data_collator=data_collator,\n",
    "                compute_metrics=compute_metrics,\n",
    "            )\n",
    "\n",
    "test_dataset = dataset_dict_tokenized['test']\n",
    "\n",
    "results = trainer.evaluate(test_dataset, metric_key_prefix=\"eval\")\n",
    "\n",
    "print(\"Evaluation results:\", results)\n",
    "# eval_bleu = 0.672"
   ]
  },
  {
   "cell_type": "markdown",
   "metadata": {
    "tags": []
   },
   "source": [
    "## Training"
   ]
  },
  {
   "cell_type": "code",
   "execution_count": null,
   "metadata": {},
   "outputs": [],
   "source": [
    "# Train the model with best hyperparameters for 5 epochs and save checkpoints\n",
    "\n",
    "args = Seq2SeqTrainingArguments(\n",
    "                output_dir=\"results\",\n",
    "                evaluation_strategy = \"epoch\",\n",
    "                learning_rate=0.00001,\n",
    "                per_device_train_batch_size=BATCH_SIZE,\n",
    "                per_device_eval_batch_size=BATCH_SIZE,\n",
    "                weight_decay=0.1,\n",
    "                num_train_epochs=4, # limited because of long training times\n",
    "                save_strategy = \"epoch\", # save the model after every epoch\n",
    "                predict_with_generate=True,\n",
    "                logging_dir=\"results\"\n",
    "            )\n",
    "\n",
    "data_collator = DataCollatorForSeq2Seq(tokenizer, model=model)\n",
    "\n",
    "trainer = Seq2SeqTrainer(\n",
    "                model=model,\n",
    "                args=args,\n",
    "                train_dataset=dataset_dict_tokenized[\"train\"],\n",
    "                eval_dataset=dataset_dict_tokenized[\"validation\"],\n",
    "                tokenizer=tokenizer,\n",
    "                data_collator=data_collator,\n",
    "\n",
    "                # compute_metrics=compute_metrics, we will compute metrics at the end\n",
    "\n",
    "            )\n",
    "\n",
    "trainer.train()"
   ]
  },
  {
   "cell_type": "markdown",
   "metadata": {
    "tags": []
   },
   "source": [
    "## Evaluate fine-tuned model"
   ]
  },
  {
   "cell_type": "code",
   "execution_count": null,
   "metadata": {},
   "outputs": [],
   "source": [
    "# Load model from an existing checkpoint\n",
    "\n",
    "checkpoint_path = 'path to the latest checkpoint created during training'\n",
    "model = MarianMTModel.from_pretrained(checkpoint_path)\n",
    "\n",
    "args = Seq2SeqTrainingArguments(\n",
    "                output_dir=\"results\",\n",
    "                evaluation_strategy = \"epoch\",\n",
    "                learning_rate=0.00001,\n",
    "                per_device_train_batch_size=BATCH_SIZE,\n",
    "                per_device_eval_batch_size=BATCH_SIZE,\n",
    "                weight_decay=0.1,\n",
    "                num_train_epochs=5,\n",
    "                save_strategy = \"no\", # we dont want saving \n",
    "                predict_with_generate=True,\n",
    "                logging_dir=\"results\"\n",
    "            )\n",
    "\n",
    "data_collator = DataCollatorForSeq2Seq(tokenizer, model=model)\n",
    "\n",
    "trainer = Seq2SeqTrainer(\n",
    "                model=model,\n",
    "                args=args,\n",
    "                train_dataset=dataset_dict_tokenized[\"train\"],\n",
    "                eval_dataset=dataset_dict_tokenized[\"test\"],\n",
    "                tokenizer=tokenizer,\n",
    "                compute_metrics=compute_metrics\n",
    "\n",
    "            )\n",
    "\n",
    "test_dataset = dataset_dict_tokenized['test']\n",
    "\n",
    "results = trainer.evaluate(test_dataset, metric_key_prefix=\"eval\")\n",
    "\n",
    "print(\"Evaluation results:\", results)\n",
    "# Test BLEU: 0.673"
   ]
  }
 ],
 "metadata": {
  "kernelspec": {
   "display_name": "Python 3 (ipykernel)",
   "language": "python",
   "name": "python3"
  },
  "language_info": {
   "codemirror_mode": {
    "name": "ipython",
    "version": 3
   },
   "file_extension": ".py",
   "mimetype": "text/x-python",
   "name": "python",
   "nbconvert_exporter": "python",
   "pygments_lexer": "ipython3",
   "version": "3.10.4"
  }
 },
 "nbformat": 4,
 "nbformat_minor": 4
}
